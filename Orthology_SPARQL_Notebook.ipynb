{
 "cells": [
  {
   "cell_type": "markdown",
   "metadata": {},
   "source": [
    "## Accompanying Jupyter Notebook for tutorial:\n",
    "## \"How to query evolutionary relationships among genes with SPARQL\""
   ]
  },
  {
   "cell_type": "code",
   "execution_count": 1,
   "metadata": {},
   "outputs": [
    {
     "name": "stdout",
     "output_type": "stream",
     "text": [
      "Requirement already satisfied: SPARQLWrapper in /Library/Frameworks/Python.framework/Versions/3.6/lib/python3.6/site-packages (1.8.4)\n",
      "Requirement already satisfied: rdflib>=4.0 in /Library/Frameworks/Python.framework/Versions/3.6/lib/python3.6/site-packages (from SPARQLWrapper) (4.2.2)\n",
      "Requirement already satisfied: isodate in /Library/Frameworks/Python.framework/Versions/3.6/lib/python3.6/site-packages (from rdflib>=4.0->SPARQLWrapper) (0.6.0)\n",
      "Requirement already satisfied: pyparsing in /Library/Frameworks/Python.framework/Versions/3.6/lib/python3.6/site-packages (from rdflib>=4.0->SPARQLWrapper) (2.2.0)\n",
      "Requirement already satisfied: six in /Library/Frameworks/Python.framework/Versions/3.6/lib/python3.6/site-packages (from isodate->rdflib>=4.0->SPARQLWrapper) (1.12.0)\n",
      "\u001b[33mWARNING: You are using pip version 19.2.1, however version 19.2.3 is available.\n",
      "You should consider upgrading via the 'pip install --upgrade pip' command.\u001b[0m\n"
     ]
    }
   ],
   "source": [
    "import sys\n",
    "!{sys.executable} -m pip install SPARQLWrapper\n",
    "from SPARQLWrapper import SPARQLWrapper, JSON\n",
    "import sys, os, time\n",
    "\n",
    "# wrapper for executing SPARQL queries\n",
    "sparql_OMA = SPARQLWrapper(\"https://sparql.omabrowser.org/sparql\")\n"
   ]
  },
  {
   "cell_type": "code",
   "execution_count": 25,
   "metadata": {},
   "outputs": [
    {
     "name": "stdout",
     "output_type": "stream",
     "text": [
      "select ?protein2  {\n",
      "   ?cluster a orth:OrthologsCluster.\n",
      "   ?cluster orth:hasHomologousMember ?node1. \n",
      "   ?cluster orth:hasHomologousMember ?node2. \n",
      "   ?node2 orth:hasHomologousMember* ?protein2.\n",
      "   ?node1 orth:hasHomologousMember* ?protein1.\n",
      "   ?protein1 a orth:Protein.\n",
      "   ?protein1 dct:identifier \"HUMAN22168\".\n",
      "   ?protein2 a orth:Protein.\n",
      "   filter(?node1 != ?node2)}\n"
     ]
    }
   ],
   "source": [
    "# sample query for getting pairwise orthologs of a given protein in OMA\n",
    "query = \"\"\"select ?protein2  {\n",
    "   ?cluster a orth:OrthologsCluster.\n",
    "   ?cluster orth:hasHomologousMember ?node1. \n",
    "   ?cluster orth:hasHomologousMember ?node2. \n",
    "   ?node2 orth:hasHomologousMember* ?protein2.\n",
    "   ?node1 orth:hasHomologousMember* ?protein1.\n",
    "   ?protein1 a orth:Protein.\n",
    "   ?protein1 dct:identifier \\\"HUMAN22168\\\".\n",
    "   ?protein2 a orth:Protein.\n",
    "   filter(?node1 != ?node2)}\"\"\"\n",
    "\n",
    "print(query)"
   ]
  },
  {
   "cell_type": "code",
   "execution_count": 173,
   "metadata": {},
   "outputs": [
    {
     "name": "stdout",
     "output_type": "stream",
     "text": [
      "[{'protein2': {'type': 'uri', 'value': 'https://omabrowser.org/oma/info/GASAC18382'}}, {'protein2': {'type': 'uri', 'value': 'https://omabrowser.org/oma/info/LATCH00597'}}, {'protein2': {'type': 'uri', 'value': 'https://omabrowser.org/oma/info/ORENI11583'}}]\n"
     ]
    }
   ],
   "source": [
    "sparql_OMA.setQuery(query)\n",
    "sparql_OMA.setReturnFormat(JSON)\n",
    "\n",
    "results_OMA = sparql_OMA.query().convert()\n",
    "\n",
    "# print 3 sample results\n",
    "NUM_EXAMPLES=3\n",
    "print(str(results_OMA[\"results\"][\"bindings\"][:NUM_EXAMPLES]))"
   ]
  },
  {
   "cell_type": "code",
   "execution_count": 181,
   "metadata": {},
   "outputs": [],
   "source": [
    "sparql_EBI = SPARQLWrapper(\"https://www.ebi.ac.uk/rdf/services/sparql\")"
   ]
  },
  {
   "cell_type": "code",
   "execution_count": 182,
   "metadata": {},
   "outputs": [],
   "source": [
    "query_EBI = \"\"\"\n",
    "PREFIX rdf: <http://www.w3.org/1999/02/22-rdf-syntax-ns#>\n",
    "PREFIX rdfs: <http://www.w3.org/2000/01/rdf-schema#>\n",
    "PREFIX owl: <http://www.w3.org/2002/07/owl#>\n",
    "PREFIX xsd: <http://www.w3.org/2001/XMLSchema#>\n",
    "PREFIX dc: <http://purl.org/dc/elements/1.1/>\n",
    "PREFIX dcterms: <http://purl.org/dc/terms/>\n",
    "PREFIX dbpedia2: <http://dbpedia.org/property/>\n",
    "PREFIX dbpedia: <http://dbpedia.org/>\n",
    "PREFIX foaf: <http://xmlns.com/foaf/0.1/>\n",
    "PREFIX skos: <http://www.w3.org/2004/02/skos/core#>\n",
    "\n",
    "PREFIX obo: <http://purl.obolibrary.org/obo/>\n",
    "PREFIX sio: <http://semanticscience.org/resource/>\n",
    "PREFIX ensembl: <http://rdf.ebi.ac.uk/resource/ensembl/>\n",
    "\n",
    "SELECT DISTINCT ?gene ?ortholog ?orthologLabel ?name {\n",
    "?gene sio:SIO_000558 ?ortholog .\n",
    "?gene obo:RO_0002162 ?taxon .\n",
    "?gene rdfs:label ?geneLabel .\n",
    "?ortholog rdfs:label ?orthologLabel .\n",
    "?ortholog obo:RO_0002162 ?ortholog_taxon .\n",
    "?ortholog_taxon skos:altLabel ?name\n",
    "VALUES ?gene {ensembl:ENSG00000139618}\n",
    "FILTER (?taxon != ?ortholog_taxon)\n",
    "}\n",
    "\"\"\"\n"
   ]
  },
  {
   "cell_type": "code",
   "execution_count": 184,
   "metadata": {},
   "outputs": [
    {
     "name": "stdout",
     "output_type": "stream",
     "text": [
      "[{'gene': {'type': 'uri', 'value': 'http://rdf.ebi.ac.uk/resource/ensembl/ENSG00000139618'}, 'ortholog': {'type': 'uri', 'value': 'http://rdf.ebi.ac.uk/resource/ensembl/ENSMUSG00000041147'}, 'orthologLabel': {'type': 'literal', 'value': 'Brca2'}, 'name': {'type': 'literal', 'value': 'house mouse'}}, {'gene': {'type': 'uri', 'value': 'http://rdf.ebi.ac.uk/resource/ensembl/ENSG00000139618'}, 'ortholog': {'type': 'uri', 'value': 'http://rdf.ebi.ac.uk/resource/ensembl/ENSSSCG00000029039'}, 'orthologLabel': {'type': 'literal', 'value': 'BRCA2'}, 'name': {'type': 'literal', 'value': 'pig'}}, {'gene': {'type': 'uri', 'value': 'http://rdf.ebi.ac.uk/resource/ensembl/ENSG00000139618'}, 'ortholog': {'type': 'uri', 'value': 'http://rdf.ebi.ac.uk/resource/ensembl/ENSBTAG00000000988'}, 'orthologLabel': {'type': 'literal', 'value': 'BRCA2'}, 'name': {'type': 'literal', 'value': 'cattle'}}]\n"
     ]
    }
   ],
   "source": [
    "# NOTE: EBI has a problem with their SPARQL endpoint, cannot test in web interface\n",
    "# seems to be solved in the programmatic query here:\n",
    "sparql_EBI.setQuery(query_EBI)\n",
    "sparql_EBI.setReturnFormat(JSON)\n",
    "\n",
    "results_EBI = sparql_EBI.query().convert()\n",
    "\n",
    "# print 3 sample results\n",
    "NUM_EXAMPLES=3\n",
    "print(str(results_EBI[\"results\"][\"bindings\"][:NUM_EXAMPLES]))"
   ]
  },
  {
   "cell_type": "code",
   "execution_count": 19,
   "metadata": {},
   "outputs": [],
   "source": [
    "sparql_MBGD = SPARQLWrapper(\"http://sparql.nibb.ac.jp/sparql\")"
   ]
  },
  {
   "cell_type": "code",
   "execution_count": 175,
   "metadata": {},
   "outputs": [],
   "source": [
    "query_MBGD_pairwise = \"\"\"\n",
    "PREFIX mbgdr: <http://mbgd.genome.ad.jp/rdf/resource/>\n",
    "PREFIX mbgd: <http://purl.jp/bio/11/mbgd#>\n",
    "PREFIX orth: <http://purl.org/net/orth#>\n",
    "\n",
    "SELECT  ?protein2 ?protein1\n",
    "WHERE {\n",
    "values(?protein2){ (<http://purl.uniprot.org/uniprot/B8GA25>)}\n",
    "\n",
    "?cluster a orth:OrthologsCluster.\n",
    "?cluster orth:hasHomologous ?node1.\n",
    "?cluster orth:hasHomologous ?node2.\n",
    "?node2 orth:hasHomologous* ?gene2.\n",
    "?node1 orth:hasHomologous* ?gene1.\n",
    "?gene1 mbgd:uniprot ?protein1.\n",
    "?gene2 mbgd:uniprot ?protein2.\n",
    "filter(?node1 != ?node2)\n",
    "} \n",
    "\"\"\"\n"
   ]
  },
  {
   "cell_type": "code",
   "execution_count": 179,
   "metadata": {},
   "outputs": [],
   "source": [
    "query_MBGD_taxa = \"\"\"\n",
    "PREFIX orth: <http://purl.org/net/orth#>\n",
    "SELECT  ?new_tax\n",
    "WHERE {\n",
    "  \n",
    "values(?x){(<http://mbgd.genome.ad.jp/rdf/resource/cluster/2018-01_default_3927>)}\n",
    "?x a orth:OrthologsCluster.\n",
    "?x orth:hasHomologous* ?a .\n",
    "  filter(contains(STR(?a),\"cluster\" ))\n",
    "  BIND(IRI(CONCAT(\"http://purl.uniprot.org/taxonomy/\",STRBEFORE(STRAFTER(STR(?a),\"_tax\"),\"_\")) ) as ?new_tax)\n",
    "  #filter(?new_tax=\"1079\")\n",
    "  \n",
    "} limit 10\n",
    "\"\"\"\n"
   ]
  },
  {
   "cell_type": "code",
   "execution_count": 180,
   "metadata": {},
   "outputs": [
    {
     "name": "stdout",
     "output_type": "stream",
     "text": [
      "[{'new_tax': {'type': 'uri', 'value': 'http://purl.uniprot.org/taxonomy/'}}, {'new_tax': {'type': 'uri', 'value': 'http://purl.uniprot.org/taxonomy/1079'}}, {'new_tax': {'type': 'uri', 'value': 'http://purl.uniprot.org/taxonomy/35806'}}]\n"
     ]
    }
   ],
   "source": [
    "sparql_MBGD.setQuery(query_MBGD_taxa)\n",
    "sparql_MBGD.setReturnFormat(JSON)\n",
    "\n",
    "results_MBGD = sparql_MBGD.query().convert()\n",
    "\n",
    "# print 3 sample results\n",
    "NUM_EXAMPLES=3\n",
    "print(str(results_MBGD[\"results\"][\"bindings\"][:NUM_EXAMPLES]))"
   ]
  },
  {
   "cell_type": "code",
   "execution_count": 174,
   "metadata": {},
   "outputs": [
    {
     "data": {
      "text/html": [
       "<div>\n",
       "<style scoped>\n",
       "    .dataframe tbody tr th:only-of-type {\n",
       "        vertical-align: middle;\n",
       "    }\n",
       "\n",
       "    .dataframe tbody tr th {\n",
       "        vertical-align: top;\n",
       "    }\n",
       "\n",
       "    .dataframe thead th {\n",
       "        text-align: right;\n",
       "    }\n",
       "</style>\n",
       "<table border=\"1\" class=\"dataframe\">\n",
       "  <thead>\n",
       "    <tr style=\"text-align: right;\">\n",
       "      <th></th>\n",
       "      <th>protein2</th>\n",
       "      <th>protein1</th>\n",
       "    </tr>\n",
       "  </thead>\n",
       "  <tbody>\n",
       "    <tr>\n",
       "      <th>0</th>\n",
       "      <td>http://purl.uniprot.org/uniprot/A9CEI9</td>\n",
       "      <td>http://purl.uniprot.org/uniprot/A0KKE8</td>\n",
       "    </tr>\n",
       "    <tr>\n",
       "      <th>1</th>\n",
       "      <td>http://purl.uniprot.org/uniprot/A9CEI9</td>\n",
       "      <td>http://purl.uniprot.org/uniprot/A9CHY5</td>\n",
       "    </tr>\n",
       "    <tr>\n",
       "      <th>2</th>\n",
       "      <td>http://purl.uniprot.org/uniprot/A9CEI9</td>\n",
       "      <td>http://purl.uniprot.org/uniprot/Q7CRN8</td>\n",
       "    </tr>\n",
       "  </tbody>\n",
       "</table>\n",
       "</div>"
      ],
      "text/plain": [
       "                                 protein2  \\\n",
       "0  http://purl.uniprot.org/uniprot/A9CEI9   \n",
       "1  http://purl.uniprot.org/uniprot/A9CEI9   \n",
       "2  http://purl.uniprot.org/uniprot/A9CEI9   \n",
       "\n",
       "                                 protein1  \n",
       "0  http://purl.uniprot.org/uniprot/A0KKE8  \n",
       "1  http://purl.uniprot.org/uniprot/A9CHY5  \n",
       "2  http://purl.uniprot.org/uniprot/Q7CRN8  "
      ]
     },
     "execution_count": 174,
     "metadata": {},
     "output_type": "execute_result"
    }
   ],
   "source": [
    "# how to transform SPARQL results into Pandas dataframes\n",
    "\n",
    "import pandas as pd\n",
    "# display table of results:\n",
    "table = []\n",
    "for entry in results_MBGD[\"results\"][\"bindings\"]:\n",
    "    table.append([entry[\"protein2\"][\"value\"], entry[\"protein1\"][\"value\"]])\n",
    "pd.DataFrame(table, columns=[\"protein2\", \"protein1\"])[:NUM_EXAMPLES]"
   ]
  },
  {
   "cell_type": "code",
   "execution_count": null,
   "metadata": {},
   "outputs": [],
   "source": [
    "# diff (A, B)\n",
    "\n",
    "# OMA and MGDB\n",
    "\n"
   ]
  },
  {
   "cell_type": "code",
   "execution_count": 3,
   "metadata": {},
   "outputs": [],
   "source": [
    "# histogram OMA - how many entries per taxon? which are the taxa with most entries?\n",
    "group_by_OMA = \"\"\" \n",
    "PREFIX obo:<http://purl.obolibrary.org/obo/>\n",
    "PREFIX orth: <http://purl.org/net/orth#>\n",
    "PREFIX up: <http://purl.uniprot.org/core/>\n",
    "select (count(distinct ?protein) as ?count) ?taxon ?name\n",
    "where {\n",
    "?protein a orth:Protein.\n",
    "?protein orth:organism/obo:RO_0002162 ?taxon.\n",
    "?taxon up:scientificName ?name.\n",
    "} group by ?taxon ?name order by desc(?count)\n",
    "\"\"\""
   ]
  },
  {
   "cell_type": "code",
   "execution_count": 11,
   "metadata": {},
   "outputs": [],
   "source": [
    "# count number of proteins/clusters for each taxonomic range\n",
    "\n",
    "group_by_taxRange_OMA = \"\"\"\n",
    "PREFIX lscr: <http://purl.org/lscr#>\n",
    "PREFIX orth: <http://purl.org/net/orth#>\n",
    "\n",
    "SELECT (count(distinct ?cluster) as ?count) ?tax ?name {\n",
    "\n",
    "?cluster a orth:OrthologsCluster.\n",
    "?cluster orth:hasTaxonomicRange ?tax.\n",
    "?tax  orth:taxRange ?name.\n",
    "} group by ?tax ?name order by desc(?count)\n",
    "\"\"\""
   ]
  },
  {
   "cell_type": "code",
   "execution_count": 12,
   "metadata": {},
   "outputs": [
    {
     "name": "stdout",
     "output_type": "stream",
     "text": [
      "Number of distinct tax range in OMA: 975\n"
     ]
    }
   ],
   "source": [
    "sparql_OMA.setQuery(group_by_taxRange_OMA)\n",
    "sparql_OMA.setReturnFormat(JSON)\n",
    "\n",
    "results_OMA = sparql_OMA.query().convert()\n",
    "\n",
    "print(\"Number of distinct tax range in OMA: \"+ str(len(results_OMA[\"results\"][\"bindings\"])))"
   ]
  },
  {
   "cell_type": "code",
   "execution_count": 5,
   "metadata": {},
   "outputs": [
    {
     "name": "stdout",
     "output_type": "stream",
     "text": [
      "Number of distinct taxa in OMA: 2288\n"
     ]
    }
   ],
   "source": [
    "sparql_OMA.setQuery(group_by_OMA)\n",
    "sparql_OMA.setReturnFormat(JSON)\n",
    "\n",
    "results_OMA = sparql_OMA.query().convert()\n",
    "\n",
    "print(\"Number of distinct taxa in OMA: \"+ str(len(results_OMA[\"results\"][\"bindings\"])))"
   ]
  },
  {
   "cell_type": "code",
   "execution_count": 13,
   "metadata": {},
   "outputs": [],
   "source": [
    "# prepare dictionary based on data (either using taxon URI or taxon scientific name)\n",
    "group_by_results = {}\n",
    "for entry in results_OMA[\"results\"][\"bindings\"]:\n",
    "    #group_by_results[entry[\"taxon\"][\"value\"]] = int(entry[\"count\"][\"value\"])\n",
    "    group_by_results[entry[\"name\"][\"value\"]] = int(entry[\"count\"][\"value\"])\n",
    " "
   ]
  },
  {
   "cell_type": "code",
   "execution_count": 15,
   "metadata": {},
   "outputs": [
    {
     "data": {
      "text/plain": [
       "<matplotlib.axes._subplots.AxesSubplot at 0x11c8a2860>"
      ]
     },
     "execution_count": 15,
     "metadata": {},
     "output_type": "execute_result"
    },
    {
     "data": {
      "image/png": "[encoded data removed]",
      "text/plain": [
       "<matplotlib.figure.Figure at 0x11c8a2e10>"
      ]
     },
     "metadata": {
      "needs_background": "light"
     },
     "output_type": "display_data"
    }
   ],
   "source": [
    "import pandas as pd\n",
    "import numpy as np\n",
    "import matplotlib.pyplot as plt\n",
    "df_groupBy = pd.DataFrame(list(group_by_results.items()), columns=['taxon', 'count'])[:20]\n",
    "df_groupBy.plot(kind='bar',x='taxon',y='count')"
   ]
  },
  {
   "cell_type": "code",
   "execution_count": null,
   "metadata": {},
   "outputs": [],
   "source": [
    "# histogram MGDB\n",
    "group_by_MGDB = \"\"\" \n",
    "PREFIX obo:<http://purl.obolibrary.org/obo/>\n",
    "PREFIX orth: <http://purl.org/net/orth#>\n",
    "PREFIX up: <http://purl.uniprot.org/core/>\n",
    "select (count(distinct ?protein) as ?count) ?taxon ?name\n",
    "where {\n",
    "?protein a orth:Protein.\n",
    "?protein orth:organism/obo:RO_0002162 ?taxon.\n",
    "?taxon up:scientificName ?name.\n",
    "} group by ?taxon ?name order by desc(?count)\n",
    "\"\"\""
   ]
  },
  {
   "cell_type": "code",
   "execution_count": 23,
   "metadata": {},
   "outputs": [],
   "source": [
    "# PRINT PER SUPERKINGDOM??\n",
    "group_by_MGDB_superkingdom = \"\"\"\n",
    "PREFIX obo:<http://purl.obolibrary.org/obo/>\n",
    "PREFIX orth: <http://purl.org/net/orth#>\n",
    "PREFIX mbgdr: <http://mbgd.genome.ad.jp/rdf/resource/>\n",
    "PREFIX mbgd: <http://purl.jp/bio/11/mbgd#>\n",
    "\n",
    "select (count(distinct ?gene) as ?count) ?superkingdom\n",
    "where {\n",
    "  ?gene a orth:Gene ;\n",
    "      mbgd:organism ?org .\n",
    "  ?org mbgd:inSuperkingdom/rdfs:label ?superkingdom .\n",
    " }\n",
    " group BY ?superkingdom order by desc(?count)\n",
    "\"\"\""
   ]
  },
  {
   "cell_type": "code",
   "execution_count": null,
   "metadata": {},
   "outputs": [],
   "source": [
    "# and then look at phylum? OPTIONAL {\n",
    "# ?org mbgd:inPhylum/rdfs:label ?phylum . }"
   ]
  },
  {
   "cell_type": "code",
   "execution_count": 24,
   "metadata": {},
   "outputs": [
    {
     "name": "stdout",
     "output_type": "stream",
     "text": [
      "Number of distinct taxa in OMA: 3\n"
     ]
    }
   ],
   "source": [
    "# prepare dictionary based on data (either using taxon URI or taxon scientific name)\n",
    "sparql_MBGD.setQuery(group_by_MGDB_superkingdom)\n",
    "sparql_MBGD.setReturnFormat(JSON)\n",
    "\n",
    "results_MBGD = sparql_MBGD.query().convert()\n",
    "\n",
    "print(\"Number of distinct taxa in OMA: \"+ str(len(results_MBGD[\"results\"][\"bindings\"])))\n",
    "group_by_results = {}\n",
    "for entry in results_MBGD[\"results\"][\"bindings\"]:\n",
    "    group_by_results[entry[\"superkingdom\"][\"value\"]] = int(entry[\"count\"][\"value\"])\n",
    " "
   ]
  },
  {
   "cell_type": "code",
   "execution_count": 25,
   "metadata": {},
   "outputs": [
    {
     "data": {
      "text/plain": [
       "<matplotlib.axes._subplots.AxesSubplot at 0x11c8a2470>"
      ]
     },
     "execution_count": 25,
     "metadata": {},
     "output_type": "execute_result"
    },
    {
     "data": {
      "image/png": "[encoded data removed]",
      "text/plain": [
       "<matplotlib.figure.Figure at 0x11c8e3240>"
      ]
     },
     "metadata": {
      "needs_background": "light"
     },
     "output_type": "display_data"
    }
   ],
   "source": [
    "import pandas as pd\n",
    "import numpy as np\n",
    "import matplotlib.pyplot as plt\n",
    "df_groupBy = pd.DataFrame(list(group_by_results.items()), columns=['superkingdom', 'count'])[:20]\n",
    "df_groupBy.plot(kind='bar',x='superkingdom',y='count')"
   ]
  },
  {
   "cell_type": "code",
   "execution_count": null,
   "metadata": {},
   "outputs": [],
   "source": []
  }
 ],
 "metadata": {
  "kernelspec": {
   "display_name": "Python 3",
   "language": "python",
   "name": "python3"
  },
  "language_info": {
   "codemirror_mode": {
    "name": "ipython",
    "version": 3
   },
   "file_extension": ".py",
   "mimetype": "text/x-python",
   "name": "python",
   "nbconvert_exporter": "python",
   "pygments_lexer": "ipython3",
   "version": "3.6.4"
  }
 },
 "nbformat": 4,
 "nbformat_minor": 2
}
